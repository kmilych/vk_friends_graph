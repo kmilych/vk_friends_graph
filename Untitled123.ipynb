{
 "cells": [
  {
   "cell_type": "code",
   "execution_count": 8,
   "metadata": {},
   "outputs": [],
   "source": [
    "import requests\n",
    "import random\n",
    "import networkx as nx\n",
    "import json\n",
    "import time\n",
    "import tqdm\n",
    "%matplotlib inline\n",
    "\n",
    "ACCESS_TOKEN = 'a8a2d250541041faa29daea20f6cd928c2491847792bc8aa68ef5742881e0be64f0e9720bef34767618e1'\n",
    "api_v = '5.21'\n",
    "\n",
    "MY_ID = 154301983\n",
    "\n",
    "def retry_request(req, times,delay=2):\n",
    "    try:\n",
    "        r = requests.get(req).json()['response']\n",
    "        return r\n",
    "    except Exception:\n",
    "        time.sleep(delay)\n",
    "        if times > 0:\n",
    "            return retry_request(req, times-1)\n",
    "        \n",
    "def vk_api_request(method_name, parameters=False, token=False):\n",
    "    req_url = 'https://api.vk.com/method/{method_name}'.format(method_name=method_name)\n",
    "    if parameters:\n",
    "        req_url +='?{parameters}'.format(parameters=parameters)  \n",
    "    if token:\n",
    "        req_url +='&access_token={}'.format(token)\n",
    "    req_url += '&v={api_v}'.format(api_v=api_v)\n",
    "    r = retry_request(req_url,5)\n",
    "    return r\n",
    "\n",
    "def get_friends(vk_id, token=ACCESS_TOKEN):\n",
    "    r = vk_api_request('friends.get','user_id={}&fields=first_name,last_name,photo_50'.format(vk_id), token)\n",
    "    # удаляем деактивированные анкеты\n",
    "    r[\"items\"] = list(filter((lambda x: 'deactivated' not in x.keys()), r['items']))\n",
    "    return {item['id']: item for item in r['items']}, r['count']\n",
    "\n",
    "def get_profileInfo(vk_id, token=ACCESS_TOKEN):\n",
    "    r = vk_api_request('users.get','user_id={}&fields=first_name,last_name,photo_50'.format(vk_id),token)\n",
    "    return r\n",
    "\n",
    "def get_mutualFriends(vk_id1, vk_id2, token=ACCESS_TOKEN):\n",
    "    r = vk_api_request('friends.getMutual','source_uid={}&target_uid={}'.format(vk_id1,vk_id2), token)\n",
    "    return r\n",
    "\n",
    "def add_friends_to_graph(graph,vk_id):\n",
    "    print(\"Retrieving id{}'s profile info...\".format(vk_id))\n",
    "    friends_network.add_node(MY_ID, **get_profileInfo(vk_id)[0])\n",
    "    print(\"Retrieving id{}'s friends and friends of friends...\".format(vk_id))\n",
    "    for f in tqdm.tqdm_notebook(get_friends(vk_id)[0].items()):\n",
    "        graph.add_node(f[0],**f[1])\n",
    "        graph.add_edge(vk_id, f[0])\n",
    "        for m in get_mutualFriends(vk_id, f[0]):\n",
    "            graph.add_edge(f[0], m)"
   ]
  },
  {
   "cell_type": "code",
   "execution_count": null,
   "metadata": {},
   "outputs": [],
   "source": [
    "%%time\n",
    "friends_network = nx.Graph()\n",
    "#friends_network.add_node(MY_ID, **get_profileInfo(MY_ID)[0]) #Adding me as root node\n",
    "add_friends_to_graph(friends_network, MY_ID)"
   ]
  },
  {
   "cell_type": "code",
   "execution_count": null,
   "metadata": {},
   "outputs": [],
   "source": [
    "%%time\n",
    "friends_network = nx.Graph()\n",
    "friends_network.add_node(243748918, **get_profileInfo(243748918)[0]) #Adding me as root node\n",
    "add_friends_to_graph(friends_network, 243748918)\n"
   ]
  },
  {
   "cell_type": "code",
   "execution_count": null,
   "metadata": {},
   "outputs": [],
   "source": [
    "%%time\n",
    "friends_network = nx.Graph()\n",
    "friends_network.add_node(11633990, **get_profileInfo(11633990)[0]) #Adding me as root node\n",
    "add_friends_to_graph(friends_network, 11633990)\n",
    "\n",
    "friends_network.remove_node(MY_ID)\n",
    "friends_network.remove_node(243748918)\n",
    "friends_network.remove_node(11633990)"
   ]
  },
  {
   "cell_type": "code",
   "execution_count": null,
   "metadata": {},
   "outputs": [],
   "source": [
    "import community\n",
    "\n",
    "parts = community.best_partition(friends_network)\n",
    "values = [parts.get(node) for node in friends_network.nodes()]\n"
   ]
  },
  {
   "cell_type": "code",
   "execution_count": 8,
   "metadata": {},
   "outputs": [
    {
     "data": {
      "text/plain": [
       "'https://dl.dropboxusercontent.com/u/19954023/marvel_force_chart_img/redskull.png'"
      ]
     },
     "execution_count": 8,
     "metadata": {},
     "output_type": "execute_result"
    }
   ],
   "source": [
    "import re\n",
    "re.sub('/[/|.|:]/g','','https://dl.dropboxusercontent.com/u/19954023/marvel_force_chart_img/redskull.png')"
   ]
  },
  {
   "cell_type": "code",
   "execution_count": null,
   "metadata": {},
   "outputs": [],
   "source": [
    "bb = nx.betweenness_centrality(friends_network)\n",
    "nx.set_node_attributes(friends_network,bb, 'betweenness')\n",
    "nx.set_node_attributes(friends_network, dict(zip(friends_network.nodes(),values)), 'group')"
   ]
  },
  {
   "cell_type": "code",
   "execution_count": null,
   "metadata": {},
   "outputs": [],
   "source": [
    "g = nx.get_node_attributes(friends_network,\"group\")\n",
    "edgegroups=dict()\n",
    "for edge in friends_network.edges():\n",
    "    if g[edge[0]] == g[edge[1]]:\n",
    "        edgegroups[edge] = g[edge[0]]\n",
    "    else:\n",
    "        edgegroups[edge] = -1"
   ]
  },
  {
   "cell_type": "code",
   "execution_count": null,
   "metadata": {},
   "outputs": [],
   "source": [
    "import webbrowser\n",
    "\n",
    "webbrowser.open('http://localhost:8000/index.html')"
   ]
  },
  {
   "cell_type": "code",
   "execution_count": null,
   "metadata": {},
   "outputs": [],
   "source": [
    "import http.server\n",
    "import socketserver\n",
    "import _thread\n",
    "\n",
    "def run_local_http_server(PORT=8000):\n",
    "\tHandler = http.server.SimpleHTTPRequestHandler\n",
    "\n",
    "\twith socketserver.TCPServer((\"\", PORT), Handler) as httpd:\n",
    "\t    print(\"serving at port\", PORT)\n",
    "\t    httpd.serve_forever()"
   ]
  },
  {
   "cell_type": "code",
   "execution_count": null,
   "metadata": {},
   "outputs": [],
   "source": [
    "_thread.start_new_thread(run_local_http_server,(8000,))"
   ]
  },
  {
   "cell_type": "code",
   "execution_count": null,
   "metadata": {},
   "outputs": [],
   "source": [
    "_thread.interrupt_main()"
   ]
  },
  {
   "cell_type": "code",
   "execution_count": null,
   "metadata": {},
   "outputs": [],
   "source": [
    "nx.set_edge_attributes(friends_network, edgegroups, \"value\")"
   ]
  },
  {
   "cell_type": "code",
   "execution_count": null,
   "metadata": {},
   "outputs": [],
   "source": [
    "data = nx.readwrite.json_graph.node_link_data(friends_network)\n",
    "with open('friends_network.json', 'w') as f:\n",
    "    json.dump(data, f, indent=4)"
   ]
  },
  {
   "cell_type": "code",
   "execution_count": 2,
   "metadata": {},
   "outputs": [],
   "source": [
    "with open('friends_network.json', 'r') as f:\n",
    "    friends_network = nx.readwrite.node_link_graph(json.load(f))"
   ]
  },
  {
   "cell_type": "code",
   "execution_count": null,
   "metadata": {},
   "outputs": [],
   "source": [
    "nx.set_edge_attributes(friends_network, edgegroups, \"value\")"
   ]
  },
  {
   "cell_type": "code",
   "execution_count": 16,
   "metadata": {},
   "outputs": [
    {
     "data": {
      "text/plain": [
       "{'betweenness': 0.7083046223827808,\n",
       " 'first_name': 'Матвей',\n",
       " 'group': 0,\n",
       " 'last_name': 'Кашкинов',\n",
       " 'root': 1}"
      ]
     },
     "execution_count": 16,
     "metadata": {},
     "output_type": "execute_result"
    }
   ],
   "source": [
    "friends_network.nodes(data=True)['154301983']"
   ]
  },
  {
   "cell_type": "code",
   "execution_count": 23,
   "metadata": {},
   "outputs": [
    {
     "data": {
      "text/plain": [
       "[13108416]"
      ]
     },
     "execution_count": 23,
     "metadata": {},
     "output_type": "execute_result"
    }
   ],
   "source": [
    "[node for node,data in friends_network.nodes(data=True) if 'last_name' in data.keys() and data['last_name'] == 'Стрельцов'] "
   ]
  },
  {
   "cell_type": "code",
   "execution_count": 19,
   "metadata": {},
   "outputs": [
    {
     "data": {
      "text/plain": [
       "NodeDataView({'154301983': {'first_name': 'Матвей', 'last_name': 'Кашкинов', 'betweenness': 0.7083046223827808, 'group': 0, 'root': 1}, 827439: {'first_name': 'Инга', 'last_name': 'Ефименко', 'photo_50': 'https://pp.userapi.com/c836439/v836439345/69c85/8lDhLeLQAr4.jpg', 'online': 1, 'betweenness': 0.0006305173416199888, 'group': 0}, 5357856: {'first_name': 'Наташа', 'last_name': 'Кучеренко', 'photo_50': 'https://pp.userapi.com/c841031/v841031856/131/Vj25Un6PYAU.jpg', 'online': 0, 'betweenness': 0.0009218198801135384, 'group': 0}, 16618842: {'first_name': 'Антоха', 'last_name': 'Шевченко', 'photo_50': 'https://pp.userapi.com/c402522/u16618842/e_8fac0818.jpg', 'online': 1, 'betweenness': 0.001247196803217336, 'group': 1}, 34338675: {'first_name': 'Соня', 'last_name': 'Дубасова', 'photo_50': 'https://pp.userapi.com/c604720/v604720675/41b99/7Qjcesz48NA.jpg', 'online': 0, 'betweenness': 0.0035239004967990055, 'group': 1}, 55580845: {'first_name': 'Наталия', 'last_name': 'Савельева', 'photo_50': 'https://pp.userapi.com/c837520/v837520845/46142/68w60iaPbxM.jpg', 'online': 1, 'betweenness': 0.011486700945851584, 'group': 0}, 85703887: {'first_name': 'Александр', 'last_name': 'Мохов', 'photo_50': 'https://pp.userapi.com/c628516/v628516887/3e6f3/Xqfw5YZWg9k.jpg', 'online': 1, 'betweenness': 0.01773121546718152, 'group': 1}, 103197151: {'first_name': 'Елена', 'last_name': 'Нестерова', 'photo_50': 'https://pp.userapi.com/c11340/u103197151/e_c226e2cb.jpg', 'online': 0, 'betweenness': 9.521995810321844e-05, 'group': 0}, 179849217: {'first_name': 'Катя', 'last_name': 'Борисова', 'photo_50': 'https://pp.userapi.com/c639525/v639525217/263d8/7uzEUymWhO4.jpg', 'online': 0, 'betweenness': 0.0014694184278129076, 'group': 1}, 331037814: {'first_name': 'Ирина', 'last_name': 'Михалычева', 'photo_50': 'https://pp.userapi.com/c621820/v621820814/51749/F0gYD6E88_U.jpg', 'online': 0, 'betweenness': 0.00012695994413762458, 'group': 0}, 931772: {'first_name': 'Игорь', 'last_name': 'Молчанов', 'photo_50': 'https://pp.userapi.com/c315531/v315531772/8687/yLb62VZcLdU.jpg', 'online': 0, 'betweenness': 0.0014925250425211218, 'group': 2}, 3784317: {'first_name': 'Александр', 'last_name': 'Засорин', 'photo_50': 'https://pp.userapi.com/c637531/v637531317/3622a/NNIbG3CA8Gw.jpg', 'online': 1, 'betweenness': 0.00031733506043721466, 'group': 2}, 6399640: {'first_name': 'Сергей', 'last_name': 'Скопинцев', 'photo_50': 'https://pp.userapi.com/c638520/v638520640/57130/LQBmvhayZr8.jpg', 'online': 1, 'betweenness': 0.002482980484509605, 'group': 2}, 6929059: {'first_name': 'Ольга', 'last_name': 'Постникова', 'photo_50': 'https://pp.userapi.com/c630427/v630427059/9fc6/2BFV6Bl5J0I.jpg', 'online': 0, 'betweenness': 0.004906995292470523, 'group': 2}, 8333615: {'first_name': 'Маша', 'last_name': 'Голик', 'photo_50': 'https://pp.userapi.com/c639322/v639322366/3522e/gGiiPyX3HYs.jpg', 'online': 0, 'betweenness': 0.00037545175348058837, 'group': 2}, 10190440: {'first_name': 'Александр', 'last_name': 'Толстокоров', 'photo_50': 'https://pp.userapi.com/c837129/v837129448/a5cb9/ypYsSaRSu-o.jpg', 'online': 0, 'betweenness': 0.0017463102586944544, 'group': 2}, 11163562: {'first_name': 'Настя', 'last_name': 'Суслина', 'photo_50': 'https://pp.userapi.com/c840522/v840522944/2be85/Bg6mJ6Thfnc.jpg', 'online': 0, 'betweenness': 0.0009991244229540575, 'group': 2}, 12783437: {'first_name': 'Алиса', 'last_name': 'Куликова', 'photo_50': 'https://pp.userapi.com/c639221/v639221437/258a7/cLhWiJ-zwoM.jpg', 'online': 0, 'betweenness': 0.00013010763316027298, 'group': 2}, 18367693: {'first_name': 'Яков', 'last_name': 'Айзенберг', 'photo_50': 'https://pp.userapi.com/c840321/v840321991/3424a/ZQ-uCpUVQrI.jpg', 'online': 0, 'betweenness': 0.00012023455625234558, 'group': 2}, 31506971: {'first_name': 'Ира', 'last_name': 'Муравьёва', 'photo_50': 'https://pp.userapi.com/c837325/v837325971/28de6/73Wt7Z_iEk4.jpg', 'online': 1, 'betweenness': 0.00023275989758564508, 'group': 2}, 35539891: {'first_name': 'Никита', 'last_name': 'Никулин', 'photo_50': 'https://pp.userapi.com/c628229/v628229891/3fbcb/uZV4xZfVXuk.jpg', 'online': 0, 'betweenness': 0.027223745418271696, 'group': 1}, 35959427: {'first_name': 'Ксения', 'last_name': 'Короткая', 'photo_50': 'https://pp.userapi.com/c824203/v824203101/5bbd9/BKZmUyGCALw.jpg', 'online': 1, 'betweenness': 0.006641255367751232, 'group': 1}, 44714954: {'first_name': 'Соня', 'last_name': 'Шаповалова', 'photo_50': 'https://pp.userapi.com/c627519/v627519954/233fd/Sgfufln7fZs.jpg', 'online': 1, 'betweenness': 0.0009360069562888073, 'group': 2}, 51141531: {'first_name': 'Алексей', 'last_name': 'Алешин', 'photo_50': 'https://pp.userapi.com/c621431/v621431531/11985/OSmv7g11Glg.jpg', 'online': 0, 'betweenness': 0.0007595993000733835, 'group': 2}, 53891829: {'first_name': 'Наташа', 'last_name': 'Фадейчева', 'photo_50': 'https://pp.userapi.com/c608916/v608916829/cb9a/jzjBm9du6Ig.jpg', 'online': 0, 'betweenness': 0.0004361877885968535, 'group': 2}, 57543118: {'first_name': 'Владислав', 'last_name': 'Рубайло', 'photo_50': 'https://pp.userapi.com/c834303/v834303270/56d5e/2UJQsVwKKpI.jpg', 'online': 1, 'betweenness': 0.0068528449965504345, 'group': 1}, 78216005: {'first_name': 'Валерия', 'last_name': 'Оксиненко', 'photo_50': 'https://pp.userapi.com/c621702/v621702777/3c5bb/b4cKd0OyRk4.jpg', 'online': 0, 'betweenness': 0.0008623951584396094, 'group': 2}, 84870632: {'first_name': 'Евгения', 'last_name': 'Милова', 'photo_50': 'https://pp.userapi.com/c837124/v837124632/cf4b/MhBIutYIimU.jpg', 'online': 0, 'betweenness': 0.0006693198180533926, 'group': 2}, 89029521: {'first_name': 'Родион', 'last_name': 'Трегубов', 'photo_50': 'https://pp.userapi.com/c639718/v639718230/4d6c1/Mo5myvqfcI4.jpg', 'online': 0, 'betweenness': 0.003194758459540631, 'group': 1}, 101093614: {'first_name': 'Маришка', 'last_name': 'Скоробогатова', 'photo_50': 'https://pp.userapi.com/c840126/v840126271/631f1/U7AFJrvffEw.jpg', 'online': 0, 'betweenness': 0.00017563684456265146, 'group': 2}, 101118707: {'first_name': 'Дима', 'last_name': 'Мусатов', 'photo_50': 'https://pp.userapi.com/c837739/v837739220/5b400/cmu7jafZOXU.jpg', 'online': 0, 'betweenness': 0.0038372866105486005, 'group': 1}, 116993163: {'first_name': 'Екатерина', 'last_name': 'Шаталина', 'photo_50': 'https://pp.userapi.com/c626121/v626121163/69bbd/2QsobdkbQjc.jpg', 'online': 1, 'betweenness': 0.0004338331847377743, 'group': 2}, 117764759: {'first_name': 'Люба', 'last_name': 'Целых', 'photo_50': 'https://pp.userapi.com/c841423/v841423949/241cc/cZDk967hUBc.jpg', 'online': 1, 'betweenness': 0.00024795846782135105, 'group': 2}, 135559962: {'first_name': 'Елизавета', 'last_name': 'Разумова', 'photo_50': 'https://pp.userapi.com/c841334/v841334858/3da84/TimlawwkQW8.jpg', 'online': 1, 'betweenness': 0.0004791824516638838, 'group': 2}, 135921268: {'first_name': 'Евгений', 'last_name': 'Тхор', 'photo_50': 'https://pp.userapi.com/c840320/v840320477/10bcf/2uAUdb53Bxg.jpg', 'online': 0, 'betweenness': 0.001304624783205894, 'group': 2}, 150493997: {'first_name': 'Софья', 'last_name': 'Плеханова', 'photo_50': 'https://pp.userapi.com/c830209/v830209410/1da97/6THcZd73L_8.jpg', 'online': 0, 'betweenness': 0.000680770936156465, 'group': 2}, 166892257: {'first_name': 'Настя', 'last_name': 'Ляшева', 'photo_50': 'https://pp.userapi.com/c638221/v638221257/8bd0/XLsGhvTyyoQ.jpg', 'online': 0, 'betweenness': 0.0011586522034111848, 'group': 2}, 1151988: {'first_name': 'Виктор', 'last_name': 'Яковлев', 'photo_50': 'https://pp.userapi.com/c626521/v626521988/171a8/OZiXl1eXJRg.jpg', 'online': 0, 'betweenness': 0.0008995812107912826, 'group': 3}, 4645841: {'first_name': 'Анатолий', 'last_name': 'Бардуков', 'photo_50': 'https://vk.com/images/camera_50.png', 'online': 0, 'betweenness': 0.0004403591783306572, 'group': 3}, 9268612: {'first_name': 'Алексей', 'last_name': 'Романов', 'photo_50': 'https://pp.userapi.com/c636325/v636325612/66b49/Q7LdFdgbUbQ.jpg', 'online': 1, 'betweenness': 0.00047746819821930977, 'group': 3}, 11633990: {'first_name': 'Валера', 'last_name': 'Гиркин', 'photo_50': 'https://pp.userapi.com/c639321/v639321990/1fe09/hnw3tAaOVF4.jpg', 'online': 0, 'betweenness': 0.006236248727351706, 'group': 3}, 13108416: {'first_name': 'Антон', 'last_name': 'Стрельцов', 'photo_50': 'https://pp.userapi.com/c639728/v639728384/4930a/s-sRiylzWsI.jpg', 'online': 0, 'betweenness': 0.00047922562951397194, 'group': 3}, 13645527: {'first_name': 'Павел', 'last_name': 'Воропаев', 'photo_50': 'https://pp.userapi.com/c631216/v631216527/2bdd7/sKEDzVJqTVc.jpg', 'online': 0, 'betweenness': 0.0014995626001461243, 'group': 3}, 14037678: {'first_name': 'Максим', 'last_name': 'Мартынов', 'photo_50': 'https://pp.userapi.com/c837722/v837722678/39368/aOAPFoi3j1w.jpg', 'online': 1, 'betweenness': 0.002791770421782514, 'group': 3}, 18854177: {'first_name': 'Катя', 'last_name': 'Чупрун', 'photo_50': 'https://pp.userapi.com/c824409/v824409805/cf13/aaqk-8VgfrQ.jpg', 'online': 0, 'betweenness': 0.0013424204168352566, 'group': 3}, 22777507: {'first_name': 'Кирилл', 'last_name': 'Кузнецов', 'photo_50': 'https://pp.userapi.com/c625425/v625425507/49606/lN04h7CcF_c.jpg', 'online': 0, 'betweenness': 6.150037422276294e-05, 'group': 3}, 24598990: {'first_name': 'Настя', 'last_name': 'Ведь', 'photo_50': 'https://pp.userapi.com/c841629/v841629175/247d3/VPCfo9W_lyA.jpg', 'online': 1, 'betweenness': 0.002064099856257092, 'group': 3}, 26769197: {'first_name': 'Дмитрий', 'last_name': 'Марков', 'photo_50': 'https://pp.userapi.com/c637821/v637821197/1dba8/eQFQuksz1yU.jpg', 'online': 0, 'betweenness': 0.004443475246412385, 'group': 3}, 29175705: {'first_name': 'Лиза', 'last_name': 'Вахрамеева', 'photo_50': 'https://pp.userapi.com/c636322/v636322705/5b2b/3DO5r4LaWHs.jpg', 'online': 0, 'betweenness': 1.4282993715482765e-05, 'group': 3}, 35347263: {'first_name': 'Даниил', 'last_name': 'Ваньков', 'photo_50': 'https://pp.userapi.com/c626926/v626926263/3390f/oTHjpiA5SF8.jpg', 'online': 1, 'betweenness': 0.0013509109610220825, 'group': 3}, 37279715: {'first_name': 'Denis', 'last_name': 'Derkach', 'photo_50': 'https://pp.userapi.com/c836121/v836121715/47827/DrNe-4fVct0.jpg', 'online': 0, 'betweenness': 0.0005511675098788979, 'group': 3}, 76466151: {'first_name': 'Данат', 'last_name': 'Ерманов', 'photo_50': 'https://vk.com/images/camera_50.png', 'online': 0, 'betweenness': 0.00040917362085879003, 'group': 3}, 86711827: {'first_name': 'Айбек', 'last_name': 'Аланов', 'photo_50': 'https://pp.userapi.com/c639720/v639720895/49dbb/fGux25qaMs0.jpg', 'online': 0, 'betweenness': 7.464648247356303e-05, 'group': 3}, 88615011: {'first_name': 'Антон', 'last_name': 'Кудинов', 'photo_50': 'https://pp.userapi.com/c638827/v638827011/3febb/SKORMQekH6g.jpg', 'online': 1, 'betweenness': 0.0012738887423821396, 'group': 3}, 98119345: {'first_name': 'Ильдар', 'last_name': 'Ломов', 'photo_50': 'https://pp.userapi.com/c834102/v834102567/3f118/l2xFf6s7n9I.jpg', 'online': 0, 'betweenness': 5.342580566347467e-05, 'group': 3}, 104281632: {'first_name': 'Михаил', 'last_name': 'Конобеев', 'photo_50': 'https://pp.userapi.com/c417120/v417120632/a101/aFNY0BvL1is.jpg', 'online': 0, 'betweenness': 0.00011684597239729595, 'group': 3}, 113769428: {'first_name': 'Александр', 'last_name': 'Ситкарев', 'photo_50': 'https://pp.userapi.com/c841332/v841332493/45b6e/5g-e3CHSJjQ.jpg', 'online': 0, 'betweenness': 0.001878447743557914, 'group': 3}, 143698472: {'first_name': 'Kseniya', 'last_name': 'Valchuk', 'photo_50': 'https://pp.userapi.com/c837226/v837226472/1d5a6/ixDEkGvWOtA.jpg', 'online': 1, 'betweenness': 0.008729128351021099, 'group': 3}, 153336245: {'first_name': 'Гоша', 'last_name': 'Кузнецов', 'photo_50': 'https://pp.userapi.com/c633125/v633125245/48118/ynscMbmUBvQ.jpg', 'online': 0, 'betweenness': 0.0007572330335781557, 'group': 3}, 194257725: {'first_name': 'Полина', 'last_name': 'Чеснокова', 'photo_50': 'https://pp.userapi.com/c836120/v836120725/3bf2c/oo9NpSeMTkk.jpg', 'online': 1, 'betweenness': 0.0034264265809797762, 'group': 3}, 1850812: {'first_name': 'Мария', 'last_name': 'Хрузина', 'photo_50': 'https://pp.userapi.com/c840520/v840520717/1bc6a/cyfKTO0jDtE.jpg', 'online': 0, 'betweenness': 0.0, 'group': 0}, 13574159: {'first_name': 'Алексей', 'last_name': 'Саатчи', 'photo_50': 'https://pp.userapi.com/c627128/v627128159/437e1/vI899dPhvu0.jpg', 'online': 0, 'betweenness': 0.00012695994413762458, 'group': 0}, 137797285: {'first_name': 'Настя', 'last_name': 'Рыманова', 'photo_50': 'https://pp.userapi.com/c616522/v616522285/1d1c5/RjWGOQfO8OE.jpg', 'online': 1, 'betweenness': 7.405996741361434e-05, 'group': 0}, 1894843: {'first_name': 'Костя', 'last_name': 'Чеканов', 'photo_50': 'https://pp.userapi.com/c639419/v639419156/4a1e1/4AuUi4Ihwmk.jpg', 'online': 1, 'betweenness': 0.0, 'group': 0}, 243748918: {'first_name': 'Ира', 'last_name': 'Целых', 'photo_50': 'https://pp.userapi.com/c638416/v638416918/2aac3/r-82OiDeEgo.jpg', 'online': 1, 'betweenness': 0.009388219362186145, 'group': 1}, 1947468: {'first_name': 'Владимир', 'last_name': 'Шарич', 'photo_50': 'https://pp.userapi.com/c836735/v836735757/51244/ljn2grxaCI0.jpg', 'online': 0, 'betweenness': 0.00023691080128509414, 'group': 3}, 133385779: {'first_name': 'Катерина', 'last_name': 'Уэтова', 'photo_50': 'https://pp.userapi.com/c836524/v836524779/371c9/DRPsjmJnjEk.jpg', 'online': 1, 'betweenness': 0.0007212878874579168, 'group': 3}, 3389106: {'first_name': 'Андрей', 'last_name': 'Капустин', 'photo_50': 'https://pp.userapi.com/c836637/v836637106/2db5d/Reqt9vlemoI.jpg', 'online': 0, 'betweenness': 0.0, 'group': 0}, 4053252: {'first_name': 'Андрей', 'last_name': 'Белявский', 'photo_50': 'https://pp.userapi.com/c624125/v624125252/3e0e7/7yTE4rLhubU.jpg', 'online': 1, 'betweenness': 0.00022297340189170314, 'group': 0}, 26293593: {'first_name': 'Кирилл', 'last_name': 'Герасимов', 'photo_50': 'https://pp.userapi.com/c638127/v638127197/516b4/V-QT2RbudwE.jpg', 'online': 0, 'betweenness': 0.013901959943843993, 'group': 1}, 73725554: {'first_name': 'Андрей', 'last_name': 'Бурыкин', 'photo_50': 'https://pp.userapi.com/c10824/u73725554/e_882e15fb.jpg', 'online': 1, 'betweenness': 0.0001502359338961891, 'group': 0}, 17204160: {'first_name': 'Мария', 'last_name': 'Ефремова', 'photo_50': 'https://pp.userapi.com/c836634/v836634160/33a6c/NxTxIcY9Dm0.jpg', 'online': 0, 'betweenness': 0.0021454989426031306, 'group': 1}, 11281989: {'first_name': 'Светлана', 'last_name': 'Ермилина', 'photo_50': 'https://pp.userapi.com/c626430/v626430989/22079/sGi6Ibz8YuA.jpg', 'online': 0, 'betweenness': 0.0013917384052890677, 'group': 1}, 23132484: {'first_name': 'Сергей', 'last_name': 'Макаров', 'photo_50': 'https://pp.userapi.com/c840134/v840134268/f9e8/SgjC-dWHMsc.jpg', 'online': 0, 'betweenness': 0.0001079159525169809, 'group': 0}, 136487913: {'first_name': 'Михаил', 'last_name': 'Бугрий', 'photo_50': 'https://pp.userapi.com/c639729/v639729976/48b10/zG0zmD0bsZo.jpg', 'online': 0, 'betweenness': 0.0, 'group': 0}, 9035501: {'first_name': 'Арман', 'last_name': 'Туганбаев', 'photo_50': 'https://pp.userapi.com/c836534/v836534173/5e36a/-2ebdzieuxE.jpg', 'online': 0, 'betweenness': 0.0016741092305130538, 'group': 3}, 9684985: {'first_name': 'Влад', 'last_name': 'Мд голам', 'photo_50': 'https://pp.userapi.com/c841335/v841335763/2f0bd/LZfmiMpdg_0.jpg', 'online': 0, 'betweenness': 0.0005262028419050551, 'group': 3}, 21937508: {'first_name': 'Анастасия', 'last_name': 'Понагайбо', 'photo_50': 'https://pp.userapi.com/c637117/v637117528/5fe79/c5QE4KaDHwc.jpg', 'online': 0, 'betweenness': 0.0003092859400341449, 'group': 3}, 29471263: {'first_name': 'Ilona', 'last_name': 'Papava', 'photo_50': 'https://pp.userapi.com/c836634/v836634263/3917/0OebnuXrGUc.jpg', 'online': 1, 'betweenness': 0.0008893290762570565, 'group': 3}, 146894240: {'first_name': 'Combo', 'last_name': 'Breaker', 'photo_50': 'https://pp.userapi.com/c639917/v639917644/4b897/_g2NPiFotp4.jpg', 'online': 1, 'betweenness': 0.0002455658658398753, 'group': 3}, 16289804: {'first_name': 'Алексей', 'last_name': 'Смирнов', 'photo_50': 'https://pp.userapi.com/c308725/v308725804/2b20/YkmUCRG1WdQ.jpg', 'online': 0, 'betweenness': 0.0001481199348272287, 'group': 0}, 22178345: {'first_name': 'Роман', 'last_name': 'Купрейчик', 'photo_50': 'https://pp.userapi.com/c638527/v638527345/36b28/JXsr4HUdeuA.jpg', 'online': 0, 'betweenness': 3.702998370680717e-05, 'group': 0}, 62608118: {'first_name': 'Андрей', 'last_name': 'Денисов', 'photo_50': 'https://pp.userapi.com/c830508/v830508204/1cba2/mJHybtcrX88.jpg', 'online': 0, 'betweenness': 0.0002010199115512389, 'group': 0}, 153050843: {'first_name': 'Наташа', 'last_name': 'Михалычева', 'photo_50': 'https://pp.userapi.com/c824410/v824410239/47429/jQxAsIf2O6k.jpg', 'online': 1, 'betweenness': 0.0004972597812056963, 'group': 0}, 172236357: {'first_name': 'Даниил', 'last_name': 'Гришин', 'photo_50': 'https://pp.userapi.com/c840232/v840232323/1c77f/VTT8iuK-BU8.jpg', 'online': 1, 'betweenness': 4.534283719200878e-06, 'group': 0}, 5928974: {'first_name': 'Аня', 'last_name': 'Шечкова', 'photo_50': 'https://pp.userapi.com/c637226/v637226974/4fcd/omTMcQimhIc.jpg', 'online': 0, 'betweenness': 1.269599441376246e-05, 'group': 0}, 8430631: {'first_name': 'Ксения', 'last_name': 'Ромахина', 'photo_50': 'https://pp.userapi.com/c630920/v630920631/26d16/UOCKXdGimv8.jpg', 'online': 0, 'betweenness': 0.0, 'group': 2}, 39192091: {'first_name': 'Саша', 'last_name': 'Василевская', 'photo_50': 'https://pp.userapi.com/c840734/v840734465/1d78b/9U5isFhaNIo.jpg', 'online': 1, 'betweenness': 0.001545057177317699, 'group': 0}, 40525688: {'first_name': 'Александра', 'last_name': 'Башкатова', 'photo_50': 'https://pp.userapi.com/c639825/v639825397/61806/BT-K0LenKbA.jpg', 'online': 1, 'betweenness': 0.005183351116226647, 'group': 2}, 43481543: {'first_name': 'Алексей', 'last_name': 'Чернов', 'photo_50': 'https://vk.com/images/camera_50.png', 'online': 0, 'betweenness': 4.429972293236433e-05, 'group': 2}, 14376005: {'first_name': 'Александр', 'last_name': 'Винявский', 'photo_50': 'https://pp.userapi.com/c604530/v604530005/3d11/e1e44fyFP1M.jpg', 'online': 1, 'betweenness': 7.315769075433901e-05, 'group': 1}, 18311167: {'first_name': 'Ксения', 'last_name': 'Куделькина', 'photo_50': 'https://pp.userapi.com/c638524/v638524167/6587/10vYpUsB-pU.jpg', 'online': 0, 'betweenness': 0.0, 'group': 2}, 20741084: {'first_name': 'Борислав', 'last_name': 'Ткаченко', 'photo_50': 'https://pp.userapi.com/c837233/v837233415/4ee5a/TURcuH2OzoM.jpg', 'online': 1, 'betweenness': 0.0005063457581773613, 'group': 1}, 48730838: {'first_name': 'Полина', 'last_name': 'Кулешова', 'photo_50': 'https://pp.userapi.com/c633722/v633722838/435d8/Qs4cRdwWuEs.jpg', 'online': 0, 'betweenness': 0.001125588865167676, 'group': 1}, 49544525: {'first_name': 'Евгений', 'last_name': 'Ткаченко', 'photo_50': 'https://pp.userapi.com/c638725/v638725525/180fa/SSXHpInIMwk.jpg', 'online': 0, 'betweenness': 0.00069817547202852, 'group': 1}, 52275878: {'first_name': 'Александр', 'last_name': 'Семеныч', 'photo_50': 'https://pp.userapi.com/c9391/u52275878/e_2c82a17a.jpg', 'online': 0, 'betweenness': 6.34799720688123e-06, 'group': 0}, 7201879: {'first_name': 'Софи', 'last_name': 'Кашкинова', 'photo_50': 'https://pp.userapi.com/c840230/v840230872/24cbd/UNa-CiB0MYQ.jpg', 'online': 0, 'betweenness': 3.1739986034406146e-05, 'group': 0}, 349770989: {'first_name': 'Владимир', 'last_name': 'Кашкинов', 'photo_50': 'https://pp.userapi.com/c604824/v604824989/2346b/5oe2CjIbvkc.jpg', 'online': 0, 'betweenness': 0.0, 'group': 0}, 9666272: {'betweenness': 1.2584689032872574e-05, 'group': 3}, 17335563: {'first_name': 'Николай', 'last_name': 'Якушкин', 'photo_50': 'https://pp.userapi.com/c639321/v639321205/51720/8PBsZ2UWH9U.jpg', 'online': 0, 'betweenness': 0.0015664938679971064, 'group': 3}, 17890829: {'first_name': 'Евгений', 'last_name': 'Юртаев', 'photo_50': 'https://pp.userapi.com/c639618/v639618241/58ea7/CQ7aK7laTb0.jpg', 'online': 0, 'betweenness': 0.0021170795737913434, 'group': 3}, 19952994: {'first_name': 'Александр', 'last_name': 'Старков', 'photo_50': 'https://pp.userapi.com/c837629/v837629399/50c02/yEEsGQZWabE.jpg', 'online': 1, 'betweenness': 6.22889739248528e-05, 'group': 3}, 49405565: {'first_name': 'Алина', 'last_name': 'Сафаргалина', 'photo_50': 'https://pp.userapi.com/c639124/v639124565/1d0bf/XNRBM88UOVw.jpg', 'online': 1, 'betweenness': 6.301309358430131e-05, 'group': 3}, 57346310: {'first_name': 'Игорь', 'last_name': 'Якушкин', 'photo_50': 'https://pp.userapi.com/c629207/v629207310/37b1f/9y4DQu93Z8U.jpg', 'online': 0, 'betweenness': 0.000700195746974394, 'group': 3}, 110619159: {'first_name': 'Татьяна', 'last_name': 'Дмитриева', 'photo_50': 'https://pp.userapi.com/c637523/v637523159/1e562/qjjhzwbi3II.jpg', 'online': 0, 'betweenness': 0.0005233789620797138, 'group': 3}, 122498128: {'first_name': 'Павел', 'last_name': 'Федотов', 'photo_50': 'https://pp.userapi.com/c837126/v837126526/64f96/HAnPgANiQ60.jpg', 'online': 0, 'betweenness': 0.0009593223624252952, 'group': 3}, 184007922: {'first_name': 'Артур', 'last_name': 'Колеватов', 'photo_50': 'https://pp.userapi.com/c633724/v633724922/210ce/OHx1tCKwi3I.jpg', 'online': 0, 'betweenness': 0.002151069376116589, 'group': 3}, 377247883: {'first_name': 'Юлия', 'last_name': 'Васильева', 'photo_50': 'https://pp.userapi.com/c638621/v638621883/3cdce/YboIUA_iknE.jpg', 'online': 0, 'betweenness': 4.760997905160922e-05, 'group': 3}, 19908146: {'first_name': 'Николай', 'last_name': 'Баишев', 'photo_50': 'https://pp.userapi.com/c841326/v841326739/395a7/0FctguwEUyU.jpg', 'online': 0, 'betweenness': 3.824899082945169e-05, 'group': 3}, 62026744: {'first_name': 'Альберт', 'last_name': 'Горяев', 'photo_50': 'https://pp.userapi.com/c639821/v639821744/f1c1/cHwzBc0dGMc.jpg', 'online': 0, 'betweenness': 0.00010579995344802048, 'group': 2}, 69272721: {'first_name': 'Анастасия', 'last_name': 'Лакина', 'photo_50': 'https://pp.userapi.com/c639617/v639617317/622fe/PpdC-GGTS_o.jpg', 'online': 1, 'betweenness': 3.617350789318033e-05, 'group': 2}, 26063495: {'first_name': 'Дарья', 'last_name': 'Рогова', 'photo_50': 'https://pp.userapi.com/c637429/v637429495/4f970/CwRAOJTy-ds.jpg', 'online': 0, 'betweenness': 0.0016637457080443039, 'group': 1}, 39798702: {'first_name': 'Ирина', 'last_name': 'Маценко', 'photo_50': 'https://pp.userapi.com/c638616/v638616409/591a4/1Agle7PI9QQ.jpg', 'online': 0, 'betweenness': 0.002046482001505921, 'group': 1}, 42152649: {'first_name': 'Константин', 'last_name': 'Васильев', 'photo_50': 'https://pp.userapi.com/c626521/v626521649/4592d/4RUK-HQTc1A.jpg', 'online': 0, 'betweenness': 0.000718465475709569, 'group': 1}, 49544258: {'first_name': 'Татьяна', 'last_name': 'Наумова', 'photo_50': 'https://pp.userapi.com/c302812/v302812258/63ef/BzQqa8JpT54.jpg', 'online': 0, 'betweenness': 0.0007179999530205744, 'group': 1}, 51603627: {'first_name': 'Лиза', 'last_name': 'Каменская', 'photo_50': 'https://pp.userapi.com/c619830/v619830627/23488/5dk7rgZ1I2k.jpg', 'online': 0, 'betweenness': 0.0008939385445230955, 'group': 1}, 58073471: {'first_name': 'Антон', 'last_name': 'Иванов', 'photo_50': 'https://pp.userapi.com/c630221/v630221471/380c7/CenpzaT56uc.jpg', 'online': 0, 'betweenness': 0.0002995958140960103, 'group': 1}, 58993843: {'first_name': 'Полина', 'last_name': 'Козлова', 'photo_50': 'https://pp.userapi.com/c638726/v638726843/aa7c/DLkH1h6f2KA.jpg', 'online': 0, 'betweenness': 0.0011924525023129988, 'group': 1}, 61347727: {'first_name': 'Андрей', 'last_name': 'Катунин', 'photo_50': 'https://pp.userapi.com/c840522/v840522547/35e6f/AsnOFSnkvmQ.jpg', 'online': 0, 'betweenness': 0.0003635156781453499, 'group': 1}, 67462757: {'first_name': 'Майя', 'last_name': 'Алексеева', 'photo_50': 'https://pp.userapi.com/c637623/v637623045/7082b/TqiAF54zHlo.jpg', 'online': 0, 'betweenness': 0.00022638665120489954, 'group': 1}, 71623110: {'first_name': 'Алла', 'last_name': 'Моисеева', 'photo_50': 'https://pp.userapi.com/c836122/v836122110/5086a/aCg7pCfbHL4.jpg', 'online': 1, 'betweenness': 0.0010760714867868633, 'group': 1}, 76343504: {'first_name': 'Маша', 'last_name': 'Пивненко', 'photo_50': 'https://pp.userapi.com/c638217/v638217504/12da/Jc_BIi_Bsyw.jpg', 'online': 0, 'betweenness': 0.0008505995535823439, 'group': 1}, 82214406: {'first_name': 'Яков', 'last_name': 'Пылёв', 'photo_50': 'https://pp.userapi.com/c636229/v636229406/1ecf8/fc0h1MVfNm0.jpg', 'online': 0, 'betweenness': 0.000434900932100422, 'group': 1}, 82281763: {'first_name': 'Алёна', 'last_name': 'Деревенцова', 'photo_50': 'https://pp.userapi.com/c836533/v836533763/46d81/6urotJeQiRg.jpg', 'online': 0, 'betweenness': 0.0003064152821287455, 'group': 1}, 86240657: {'first_name': 'Настя', 'last_name': 'Дёмина', 'photo_50': 'https://pp.userapi.com/c637317/v637317657/5c36d/i5WAypphp40.jpg', 'online': 0, 'betweenness': 0.0012618255887908273, 'group': 1}, 86912986: {'first_name': 'Лена', 'last_name': 'Асеева', 'photo_50': 'https://pp.userapi.com/c841437/v841437456/3ad92/3DJIVStstI0.jpg', 'online': 0, 'betweenness': 0.002227667009426493, 'group': 1}, 129131995: {'first_name': 'Михаил', 'last_name': 'Марченков', 'photo_50': 'https://pp.userapi.com/c636428/v636428995/62dad/7lp2XwXYJtY.jpg', 'online': 1, 'betweenness': 0.000563221435121714, 'group': 1}, 139078901: {'first_name': 'Соня', 'last_name': 'Алексеева', 'photo_50': 'https://pp.userapi.com/c840721/v840721452/18eaa/STWaE6QwyXI.jpg', 'online': 0, 'betweenness': 0.0029052371095558, 'group': 1}, 139545604: {'first_name': 'Евгений', 'last_name': 'Мельничук', 'photo_50': 'https://vk.com/images/camera_50.png', 'online': 0, 'betweenness': 0.0012606979657655078, 'group': 1}, 183916717: {'first_name': 'Евгений', 'last_name': 'Чехович', 'photo_50': 'https://pp.userapi.com/c624424/v624424717/3b0ce/MWWQXnLfY9w.jpg', 'online': 0, 'betweenness': 0.0005522802270022363, 'group': 1}, 29863785: {'first_name': 'Андрей', 'last_name': 'Кондратьев', 'photo_50': 'https://vk.com/images/camera_50.png', 'online': 0, 'betweenness': 0.0, 'group': 3}, 146204614: {'first_name': 'Аня', 'last_name': 'Осепян', 'photo_50': 'https://pp.userapi.com/c837627/v837627348/5bd03/BxiUnEZ-w1M.jpg', 'online': 1, 'betweenness': 0.00010381219674687586, 'group': 0}, 11988419: {'first_name': 'Василий', 'last_name': 'Шкуратов', 'photo_50': 'https://pp.userapi.com/c621521/v621521419/196d7/HJkOTNC3dXI.jpg', 'online': 0, 'betweenness': 6.347997206881229e-05, 'group': 0}, 36001455: {'first_name': 'Миха', 'last_name': 'Талипов', 'photo_50': 'https://pp.userapi.com/c637619/v637619604/60cf1/I91YG7ZyYGw.jpg', 'online': 1, 'betweenness': 6.347997206881229e-05, 'group': 0}, 211148083: {'first_name': 'Вадим', 'last_name': 'Киселёв', 'photo_50': 'https://pp.userapi.com/c824602/v824602587/118de/EHpTuSe1Rq8.jpg', 'online': 0, 'betweenness': 0.00017985992086163482, 'group': 0}, 222432279: {'first_name': 'Илья', 'last_name': 'Ионов', 'photo_50': 'https://pp.userapi.com/c419521/v419521279/8f98/mGXDu8w6QWE.jpg', 'online': 0, 'betweenness': 0.0, 'group': 0}, 206186029: {'first_name': 'Глеб', 'last_name': 'Коломиец', 'photo_50': 'https://pp.userapi.com/c624816/v624816029/22677/twUSoNeUxMY.jpg', 'online': 1, 'betweenness': 0.0004890206753717345, 'group': 3}, 218094077: {'first_name': 'Дарья', 'last_name': 'Замиусская', 'photo_50': 'https://pp.userapi.com/c841420/v841420407/117c6/HjECj11WZPs.jpg', 'online': 0, 'betweenness': 0.0002197775273580383, 'group': 1}, 142929387: {'first_name': 'Михаил', 'last_name': 'Хорошун', 'photo_50': 'https://pp.userapi.com/c633127/v633127387/12b78/4wzHMccyZj8.jpg', 'online': 1, 'betweenness': 0.0005825043151266728, 'group': 0}, 52946033: {'first_name': 'Алексей', 'last_name': 'Лаврухин', 'photo_50': 'https://pp.userapi.com/c638321/v638321924/6ebff/XS1CA6t6SHY.jpg', 'online': 1, 'betweenness': 0.0008701679029046373, 'group': 1}, 216366311: {'first_name': 'Алина', 'last_name': 'Андреевна', 'photo_50': 'https://pp.userapi.com/c836730/v836730913/5bad8/GzXqsud7JVg.jpg', 'online': 0, 'betweenness': 0.00013623294250552167, 'group': 1}, 37487069: {'first_name': 'Olya', 'last_name': 'Borisova', 'photo_50': 'https://pp.userapi.com/c639431/v639431145/558e0/tE0VdONk-5g.jpg', 'online': 1, 'betweenness': 5.846706951258466e-05, 'group': 1}, 83958457: {'first_name': 'Юля', 'last_name': 'Наруцкая', 'photo_50': 'https://pp.userapi.com/c841425/v841425082/49d19/3jE4H7XXbdk.jpg', 'online': 0, 'betweenness': 2.0201219412574113e-05, 'group': 1}, 154763632: {'first_name': 'Анастасия', 'last_name': 'Перова', 'photo_50': 'https://pp.userapi.com/c628622/v628622632/822e/RA96vpvt6Nw.jpg', 'online': 0, 'betweenness': 9.521995810321844e-06, 'group': 1}, 34326334: {'first_name': 'Георгий', 'last_name': 'Жарков', 'photo_50': 'https://pp.userapi.com/c623626/v623626334/4df1c/_lmNh29lrPM.jpg', 'online': 0, 'betweenness': 2.669090909986202e-05, 'group': 3}, 19705501: {'first_name': 'Виктория', 'last_name': 'Миготина', 'photo_50': 'https://pp.userapi.com/c639921/v639921310/60a37/cGoVcdFYsQs.jpg', 'online': 0, 'betweenness': 0.00013930327203989364, 'group': 0}, 32934786: {'first_name': 'Надя', 'last_name': 'Миронова', 'photo_50': 'https://pp.userapi.com/c9362/v9362786/3450/nDmApv3qwz8.jpg', 'online': 0, 'betweenness': 3.3410511615164363e-06, 'group': 1}, 24269485: {'first_name': 'Дарья', 'last_name': 'Шапошникова', 'photo_50': 'https://pp.userapi.com/c639921/v639921669/4bc44/ijuCw9CogA4.jpg', 'online': 0, 'betweenness': 0.0, 'group': 0}, 30716803: {'first_name': 'Елизавета', 'last_name': 'Поваляева', 'photo_50': 'https://pp.userapi.com/c840126/v840126206/2cff7/N8xWUulSQuE.jpg', 'online': 1, 'betweenness': 0.00018433607273828185, 'group': 3}, 220752477: {'first_name': 'Denis', 'last_name': 'Vetoshkin', 'photo_50': 'https://pp.userapi.com/c624923/v624923477/4d6d8/BNT9OL__Moo.jpg', 'online': 0, 'betweenness': 0.0008741451648576056, 'group': 1}, 50976146: {'first_name': 'Денис', 'last_name': 'Бодров', 'photo_50': 'https://pp.userapi.com/c841322/v841322342/424ee/A7xkW6zVjJY.jpg', 'online': 0, 'betweenness': 0.00020550381434022644, 'group': 0}, 55776383: {'first_name': 'Костя', 'last_name': 'Сазонов', 'photo_50': 'https://pp.userapi.com/c11014/u55776383/e_47e6722b.jpg', 'online': 0, 'betweenness': 0.0, 'group': 0}, 65974848: {'first_name': 'Олег', 'last_name': 'Кушнерёв', 'photo_50': 'https://pp.userapi.com/c637118/v637118848/c29a/riNp2bhSjE8.jpg', 'online': 1, 'betweenness': 0.00036712583846463105, 'group': 0}, 121743103: {'first_name': 'Татьяна', 'last_name': 'Стенина', 'photo_50': 'https://pp.userapi.com/c626523/v626523103/41599/RKAe3B35_TI.jpg', 'online': 1, 'betweenness': 0.0001420994136667342, 'group': 0}, 133542449: {'first_name': 'Мария', 'last_name': 'Афанасенкова', 'photo_50': 'https://pp.userapi.com/c841423/v841423940/37a73/l3UsTmR_NNU.jpg', 'online': 0, 'betweenness': 0.0, 'group': 1}, 182553102: {'first_name': 'Максим', 'last_name': 'Иванов', 'photo_50': 'https://pp.userapi.com/c421420/v421420102/3f52/7APAjhTUXng.jpg', 'online': 0, 'betweenness': 0.00011108995112042151, 'group': 1}, 33815170: {'first_name': 'Анастасия', 'last_name': 'Кириенко', 'photo_50': 'https://pp.userapi.com/c425529/v425529170/589d/VQ-jGMfOtOs.jpg', 'online': 0, 'betweenness': 2.1159990689604095e-05, 'group': 0}, 427644921: {'first_name': 'Кристина', 'last_name': 'Павленко', 'photo_50': 'https://pp.userapi.com/c637317/v637317921/4762a/R1mu1gKqzpc.jpg', 'online': 0, 'betweenness': 3.1739986034406146e-05, 'group': 0}, 42571043: {'first_name': 'Надя', 'last_name': 'Мухалева', 'photo_50': 'https://pp.userapi.com/c834203/v834203851/43881/e2Wqk3Wrz9U.jpg', 'online': 0, 'betweenness': 0.0001574152164515905, 'group': 0}, 159409192: {'first_name': 'Миша', 'last_name': 'Наумов', 'photo_50': 'https://pp.userapi.com/c841031/v841031902/62e14/LPnp6eRLIto.jpg', 'online': 1, 'betweenness': 0.00016171808537172527, 'group': 1}, 83989775: {'first_name': 'Андрей', 'last_name': 'Рыбцов', 'photo_50': 'https://pp.userapi.com/c837731/v837731775/3a568/PX5htpod06A.jpg', 'online': 0, 'betweenness': 1.5869993017203073e-05, 'group': 0}, 175418033: {'first_name': 'Анна', 'last_name': 'Нестерова', 'photo_50': 'https://pp.userapi.com/c638420/v638420033/3192a/p9HdNzSR964.jpg', 'online': 0, 'betweenness': 3.1739986034406146e-05, 'group': 0}, 151657275: {'first_name': 'Полина', 'last_name': 'Соур', 'photo_50': 'https://pp.userapi.com/c636626/v636626275/46c70/cH_IP4sa16o.jpg', 'online': 1, 'betweenness': 0.0006455308588235651, 'group': 0}, 47387827: {'first_name': 'Эдуард', 'last_name': 'Савинов', 'photo_50': 'https://pp.userapi.com/c836636/v836636873/55dd7/tg_X79d9zXM.jpg', 'online': 1, 'betweenness': 1.269599441376246e-05, 'group': 0}, 135538376: {'first_name': 'Анастасия', 'last_name': 'Лощинина', 'photo_50': 'https://pp.userapi.com/c618628/v618628376/1151/TJJMXFaBock.jpg', 'online': 0, 'betweenness': 0.0, 'group': 0}, 152637338: {'betweenness': 0.0, 'group': 0}, 55876245: {'first_name': 'Женя', 'last_name': 'Студеникина', 'photo_50': 'https://pp.userapi.com/c824410/v824410904/59177/C4jMtIQlnn0.jpg', 'online': 0, 'betweenness': 2.1159990689604095e-05, 'group': 0}, 56919825: {'first_name': 'Александра', 'last_name': 'Ковалева', 'photo_50': 'https://pp.userapi.com/c639119/v639119897/4e9df/JY4FjBEV5Bg.jpg', 'online': 1, 'betweenness': 5.289997672401024e-05, 'group': 0}, 56157382: {'first_name': 'Мария', 'last_name': 'Афанасенкова', 'photo_50': 'https://pp.userapi.com/c5770/v5770382/40a/Dbv3PKfpULA.jpg', 'online': 0, 'betweenness': 0.0, 'group': 0}, 139902147: {'first_name': 'Анна', 'last_name': 'Куликова', 'photo_50': 'https://pp.userapi.com/c840330/v840330756/c7b5/wV8r3V_aV4k.jpg', 'online': 1, 'betweenness': 2.1159990689604095e-05, 'group': 0}, 85732659: {'first_name': 'Владимир', 'last_name': 'Дюжий', 'photo_50': 'https://pp.userapi.com/c637925/v637925659/56fa9/lea8cDTPwZc.jpg', 'online': 0, 'betweenness': 0.0, 'group': 0}, 138847357: {'first_name': 'Анастасия', 'last_name': 'Дробан', 'photo_50': 'https://pp.userapi.com/c830408/v830408883/1a37b/tTEiKSgoxz4.jpg', 'online': 0, 'betweenness': 3.1739986034406146e-05, 'group': 0}, 113355867: {'first_name': 'Илья', 'last_name': 'Козловский', 'photo_50': 'https://pp.userapi.com/c840623/v840623178/15d50/baEFhhpaGL4.jpg', 'online': 0, 'betweenness': 0.0, 'group': 0}, 274923532: {'first_name': 'Olesya', 'last_name': 'Henderson', 'photo_50': 'https://pp.userapi.com/c841022/v841022526/46276/j9cHcdeETpo.jpg', 'online': 0, 'betweenness': 2.1159990689604095e-05, 'group': 0}, 144572065: {'first_name': 'Марина', 'last_name': 'Куль', 'photo_50': 'https://pp.userapi.com/c636029/v636029065/1ba19/3kl539zK2c8.jpg', 'online': 0, 'betweenness': 0.0, 'group': 0}, 150632561: {'first_name': 'Владимир', 'last_name': 'Кашкинов', 'photo_50': 'https://pp.userapi.com/c5668/u150632561/e_6ca76243.jpg', 'online': 0, 'betweenness': 0.0, 'group': 0}, 168276905: {'first_name': 'Iury', 'last_name': 'Ferrer', 'photo_50': 'https://pp.userapi.com/c620216/v620216905/6d95/dU-gA2yEbUY.jpg', 'online': 0, 'betweenness': 0.0, 'group': 0}, 228345131: {'first_name': 'Алексей', 'last_name': 'Кнышев', 'photo_50': 'https://pp.userapi.com/c631631/v631631131/492cd/5QnNGTvThIM.jpg', 'online': 0, 'betweenness': 0.0, 'group': 0}, 222203403: {'first_name': 'Анастасия', 'last_name': 'Соложенцева', 'photo_50': 'https://pp.userapi.com/c841124/v841124906/10741/VFE6ZbXDU4s.jpg', 'online': 1, 'betweenness': 0.0, 'group': 0}})"
      ]
     },
     "execution_count": 19,
     "metadata": {},
     "output_type": "execute_result"
    }
   ],
   "source": [
    "friends_network.nodes(data =True)"
   ]
  },
  {
   "cell_type": "code",
   "execution_count": 4,
   "metadata": {},
   "outputs": [],
   "source": [
    "import webbrowser"
   ]
  },
  {
   "cell_type": "code",
   "execution_count": 5,
   "metadata": {},
   "outputs": [
    {
     "data": {
      "text/plain": [
       "True"
      ]
     },
     "execution_count": 5,
     "metadata": {},
     "output_type": "execute_result"
    }
   ],
   "source": [
    "webbrowser.open('http://localhost:{}/index.html'.format(8000))"
   ]
  },
  {
   "cell_type": "code",
   "execution_count": null,
   "metadata": {},
   "outputs": [],
   "source": [
    "pos = nx.spring_layout(friends_network)\n",
    "plt.figure(figsize=(20,10))\n",
    "nx.draw(friends_network,pos)"
   ]
  },
  {
   "cell_type": "markdown",
   "metadata": {
    "scrolled": false
   },
   "source": [
    "from IPython.core.display import HTML\n",
    "HTML(' <iframe src=\"index.html\" width=\"1000\" height=\"1000\" frameBorder=\"0\"></iframe>')"
   ]
  },
  {
   "cell_type": "code",
   "execution_count": 50,
   "metadata": {},
   "outputs": [],
   "source": []
  }
 ],
 "metadata": {
  "kernelspec": {
   "display_name": "Python 3",
   "language": "python",
   "name": "python3"
  },
  "language_info": {
   "codemirror_mode": {
    "name": "ipython",
    "version": 3
   },
   "file_extension": ".py",
   "mimetype": "text/x-python",
   "name": "python",
   "nbconvert_exporter": "python",
   "pygments_lexer": "ipython3",
   "version": "3.6.3"
  }
 },
 "nbformat": 4,
 "nbformat_minor": 2
}
