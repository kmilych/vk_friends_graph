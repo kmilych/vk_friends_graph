{
 "cells": [
  {
   "cell_type": "code",
   "execution_count": 1,
   "metadata": {},
   "outputs": [],
   "source": [
    "import requests\n",
    "import random\n",
    "import networkx as nx\n",
    "import json\n",
    "import time\n",
    "import tqdm\n",
    "%matplotlib inline\n",
    "\n",
    "ACCESS_TOKEN = 'a8a2d250541041faa29daea20f6cd928c2491847792bc8aa68ef5742881e0be64f0e9720bef34767618e1'\n",
    "api_v = '5.21'\n",
    "\n",
    "MY_ID = 154301983\n",
    "\n",
    "def retry_request(req, times,delay=2):\n",
    "    try:\n",
    "        r = requests.get(req).json()['response']\n",
    "        return r\n",
    "    except Exception:\n",
    "        time.sleep(delay)\n",
    "        if times > 0:\n",
    "            return retry_request(req, times-1)\n",
    "        \n",
    "def vk_api_request(method_name, parameters=False, token=False):\n",
    "    req_url = 'https://api.vk.com/method/{method_name}'.format(method_name=method_name)\n",
    "    if parameters:\n",
    "        req_url +='?{parameters}'.format(parameters=parameters)  \n",
    "    if token:\n",
    "        req_url +='&access_token={}'.format(token)\n",
    "    req_url += '&v={api_v}'.format(api_v=api_v)\n",
    "    r = retry_request(req_url,5)\n",
    "    return r\n",
    "\n",
    "def get_friends(vk_id, token=ACCESS_TOKEN):\n",
    "    r = vk_api_request('friends.get','user_id={}&fields=first_name,last_name,photo_50'.format(vk_id), token)\n",
    "    # удаляем деактивированные анкеты\n",
    "    r[\"items\"] = list(filter((lambda x: 'deactivated' not in x.keys()), r['items']))\n",
    "    return {item['id']: item for item in r['items']}, r['count']\n",
    "\n",
    "def get_profileInfo(vk_id, token=ACCESS_TOKEN):\n",
    "    r = vk_api_request('users.get','user_id={}&fields=first_name,last_name,photo_50'.format(vk_id),token)\n",
    "    return r\n",
    "\n",
    "def get_mutualFriends(vk_id1, vk_id2, token=ACCESS_TOKEN):\n",
    "    r = vk_api_request('friends.getMutual','source_uid={}&target_uid={}'.format(vk_id1,vk_id2), token)\n",
    "    return r\n",
    "\n",
    "def add_friends_to_graph(graph,vk_id):\n",
    "    print(\"Retrieving id{}'s profile info...\".format(vk_id))\n",
    "    friends_network.add_node(MY_ID, **get_profileInfo(vk_id)[0])\n",
    "    print(\"Retrieving id{}'s friends and friends of friends...\".format(vk_id))\n",
    "    for f in tqdm.tqdm_notebook(get_friends(vk_id)[0].items()):\n",
    "        graph.add_node(f[0],**f[1])\n",
    "        graph.add_edge(vk_id, f[0])\n",
    "        for m in get_mutualFriends(vk_id, f[0]):\n",
    "            graph.add_edge(f[0], m)"
   ]
  },
  {
   "cell_type": "code",
   "execution_count": null,
   "metadata": {},
   "outputs": [],
   "source": [
    "%%time\n",
    "friends_network = nx.Graph()\n",
    "#friends_network.add_node(MY_ID, **get_profileInfo(MY_ID)[0]) #Adding me as root node\n",
    "add_friends_to_graph(friends_network, MY_ID)"
   ]
  },
  {
   "cell_type": "code",
   "execution_count": null,
   "metadata": {},
   "outputs": [],
   "source": [
    "%%time\n",
    "friends_network = nx.Graph()\n",
    "friends_network.add_node(243748918, **get_profileInfo(243748918)[0]) #Adding me as root node\n",
    "add_friends_to_graph(friends_network, 243748918)\n"
   ]
  },
  {
   "cell_type": "code",
   "execution_count": null,
   "metadata": {},
   "outputs": [],
   "source": [
    "%%time\n",
    "friends_network = nx.Graph()\n",
    "friends_network.add_node(11633990, **get_profileInfo(11633990)[0]) #Adding me as root node\n",
    "add_friends_to_graph(friends_network, 11633990)\n",
    "\n",
    "friends_network.remove_node(MY_ID)\n",
    "friends_network.remove_node(243748918)\n",
    "friends_network.remove_node(11633990)"
   ]
  },
  {
   "cell_type": "code",
   "execution_count": null,
   "metadata": {},
   "outputs": [],
   "source": [
    "import community\n",
    "\n",
    "parts = community.best_partition(friends_network)\n",
    "values = [parts.get(node) for node in friends_network.nodes()]\n"
   ]
  },
  {
   "cell_type": "code",
   "execution_count": 8,
   "metadata": {},
   "outputs": [
    {
     "data": {
      "text/plain": [
       "'https://dl.dropboxusercontent.com/u/19954023/marvel_force_chart_img/redskull.png'"
      ]
     },
     "execution_count": 8,
     "metadata": {},
     "output_type": "execute_result"
    }
   ],
   "source": [
    "import re\n",
    "re.sub('/[/|.|:]/g','','https://dl.dropboxusercontent.com/u/19954023/marvel_force_chart_img/redskull.png')"
   ]
  },
  {
   "cell_type": "code",
   "execution_count": null,
   "metadata": {},
   "outputs": [],
   "source": [
    "bb = nx.betweenness_centrality(friends_network)\n",
    "nx.set_node_attributes(friends_network,bb, 'betweenness')\n",
    "nx.set_node_attributes(friends_network, dict(zip(friends_network.nodes(),values)), 'group')"
   ]
  },
  {
   "cell_type": "code",
   "execution_count": null,
   "metadata": {},
   "outputs": [],
   "source": [
    "g = nx.get_node_attributes(friends_network,\"group\")\n",
    "edgegroups=dict()\n",
    "for edge in friends_network.edges():\n",
    "    if g[edge[0]] == g[edge[1]]:\n",
    "        edgegroups[edge] = g[edge[0]]\n",
    "    else:\n",
    "        edgegroups[edge] = -1"
   ]
  },
  {
   "cell_type": "code",
   "execution_count": null,
   "metadata": {},
   "outputs": [],
   "source": [
    "import webbrowser\n",
    "\n",
    "webbrowser.open('http://localhost:8000/index.html')"
   ]
  },
  {
   "cell_type": "code",
   "execution_count": null,
   "metadata": {},
   "outputs": [],
   "source": [
    "import http.server\n",
    "import socketserver\n",
    "import _thread\n",
    "\n",
    "def run_local_http_server(PORT=8000):\n",
    "\tHandler = http.server.SimpleHTTPRequestHandler\n",
    "\n",
    "\twith socketserver.TCPServer((\"\", PORT), Handler) as httpd:\n",
    "\t    print(\"serving at port\", PORT)\n",
    "\t    httpd.serve_forever()"
   ]
  },
  {
   "cell_type": "code",
   "execution_count": null,
   "metadata": {},
   "outputs": [],
   "source": [
    "_thread.start_new_thread(run_local_http_server,(8000,))"
   ]
  },
  {
   "cell_type": "code",
   "execution_count": null,
   "metadata": {},
   "outputs": [],
   "source": [
    "_thread.interrupt_main()"
   ]
  },
  {
   "cell_type": "code",
   "execution_count": null,
   "metadata": {},
   "outputs": [],
   "source": [
    "nx.set_edge_attributes(friends_network, edgegroups, \"value\")"
   ]
  },
  {
   "cell_type": "code",
   "execution_count": null,
   "metadata": {},
   "outputs": [],
   "source": [
    "data = nx.readwrite.json_graph.node_link_data(friends_network)\n",
    "with open('friends_network.json', 'w') as f:\n",
    "    json.dump(data, f, indent=4)"
   ]
  },
  {
   "cell_type": "code",
   "execution_count": 2,
   "metadata": {},
   "outputs": [],
   "source": [
    "with open('friends_network.json', 'r') as f:\n",
    "    friends_network = nx.readwrite.node_link_graph(json.load(f))"
   ]
  },
  {
   "cell_type": "code",
   "execution_count": 7,
   "metadata": {},
   "outputs": [
    {
     "data": {
      "text/plain": [
       "NodeDataView({'154301983': None, 827439: 'https://pp.userapi.com/c836439/v836439345/69c85/8lDhLeLQAr4.jpg', 5357856: 'https://pp.userapi.com/c841031/v841031856/131/Vj25Un6PYAU.jpg', 16618842: 'https://pp.userapi.com/c402522/u16618842/e_8fac0818.jpg', 34338675: 'https://pp.userapi.com/c604720/v604720675/41b99/7Qjcesz48NA.jpg', 55580845: 'https://pp.userapi.com/c837520/v837520845/46142/68w60iaPbxM.jpg', 85703887: 'https://pp.userapi.com/c628516/v628516887/3e6f3/Xqfw5YZWg9k.jpg', 103197151: 'https://pp.userapi.com/c11340/u103197151/e_c226e2cb.jpg', 179849217: 'https://pp.userapi.com/c639525/v639525217/263d8/7uzEUymWhO4.jpg', 331037814: 'https://pp.userapi.com/c621820/v621820814/51749/F0gYD6E88_U.jpg', 931772: 'https://pp.userapi.com/c315531/v315531772/8687/yLb62VZcLdU.jpg', 3784317: 'https://pp.userapi.com/c637531/v637531317/3622a/NNIbG3CA8Gw.jpg', 6399640: 'https://pp.userapi.com/c638520/v638520640/57130/LQBmvhayZr8.jpg', 6929059: 'https://pp.userapi.com/c630427/v630427059/9fc6/2BFV6Bl5J0I.jpg', 8333615: 'https://pp.userapi.com/c639322/v639322366/3522e/gGiiPyX3HYs.jpg', 10190440: 'https://pp.userapi.com/c837129/v837129448/a5cb9/ypYsSaRSu-o.jpg', 11163562: 'https://pp.userapi.com/c840522/v840522944/2be85/Bg6mJ6Thfnc.jpg', 12783437: 'https://pp.userapi.com/c639221/v639221437/258a7/cLhWiJ-zwoM.jpg', 18367693: 'https://pp.userapi.com/c840321/v840321991/3424a/ZQ-uCpUVQrI.jpg', 31506971: 'https://pp.userapi.com/c837325/v837325971/28de6/73Wt7Z_iEk4.jpg', 35539891: 'https://pp.userapi.com/c628229/v628229891/3fbcb/uZV4xZfVXuk.jpg', 35959427: 'https://pp.userapi.com/c824203/v824203101/5bbd9/BKZmUyGCALw.jpg', 44714954: 'https://pp.userapi.com/c627519/v627519954/233fd/Sgfufln7fZs.jpg', 51141531: 'https://pp.userapi.com/c621431/v621431531/11985/OSmv7g11Glg.jpg', 53891829: 'https://pp.userapi.com/c608916/v608916829/cb9a/jzjBm9du6Ig.jpg', 57543118: 'https://pp.userapi.com/c834303/v834303270/56d5e/2UJQsVwKKpI.jpg', 78216005: 'https://pp.userapi.com/c621702/v621702777/3c5bb/b4cKd0OyRk4.jpg', 84870632: 'https://pp.userapi.com/c837124/v837124632/cf4b/MhBIutYIimU.jpg', 89029521: 'https://pp.userapi.com/c639718/v639718230/4d6c1/Mo5myvqfcI4.jpg', 101093614: 'https://pp.userapi.com/c840126/v840126271/631f1/U7AFJrvffEw.jpg', 101118707: 'https://pp.userapi.com/c837739/v837739220/5b400/cmu7jafZOXU.jpg', 116993163: 'https://pp.userapi.com/c626121/v626121163/69bbd/2QsobdkbQjc.jpg', 117764759: 'https://pp.userapi.com/c841423/v841423949/241cc/cZDk967hUBc.jpg', 135559962: 'https://pp.userapi.com/c841334/v841334858/3da84/TimlawwkQW8.jpg', 135921268: 'https://pp.userapi.com/c840320/v840320477/10bcf/2uAUdb53Bxg.jpg', 150493997: 'https://pp.userapi.com/c830209/v830209410/1da97/6THcZd73L_8.jpg', 166892257: 'https://pp.userapi.com/c638221/v638221257/8bd0/XLsGhvTyyoQ.jpg', 1151988: 'https://pp.userapi.com/c626521/v626521988/171a8/OZiXl1eXJRg.jpg', 4645841: 'https://vk.com/images/camera_50.png', 9268612: 'https://pp.userapi.com/c636325/v636325612/66b49/Q7LdFdgbUbQ.jpg', 11633990: 'https://pp.userapi.com/c639321/v639321990/1fe09/hnw3tAaOVF4.jpg', 13108416: 'https://pp.userapi.com/c639728/v639728384/4930a/s-sRiylzWsI.jpg', 13645527: 'https://pp.userapi.com/c631216/v631216527/2bdd7/sKEDzVJqTVc.jpg', 14037678: 'https://pp.userapi.com/c837722/v837722678/39368/aOAPFoi3j1w.jpg', 18854177: 'https://pp.userapi.com/c824409/v824409805/cf13/aaqk-8VgfrQ.jpg', 22777507: 'https://pp.userapi.com/c625425/v625425507/49606/lN04h7CcF_c.jpg', 24598990: 'https://pp.userapi.com/c841629/v841629175/247d3/VPCfo9W_lyA.jpg', 26769197: 'https://pp.userapi.com/c637821/v637821197/1dba8/eQFQuksz1yU.jpg', 29175705: 'https://pp.userapi.com/c636322/v636322705/5b2b/3DO5r4LaWHs.jpg', 35347263: 'https://pp.userapi.com/c626926/v626926263/3390f/oTHjpiA5SF8.jpg', 37279715: 'https://pp.userapi.com/c836121/v836121715/47827/DrNe-4fVct0.jpg', 76466151: 'https://vk.com/images/camera_50.png', 86711827: 'https://pp.userapi.com/c639720/v639720895/49dbb/fGux25qaMs0.jpg', 88615011: 'https://pp.userapi.com/c638827/v638827011/3febb/SKORMQekH6g.jpg', 98119345: 'https://pp.userapi.com/c834102/v834102567/3f118/l2xFf6s7n9I.jpg', 104281632: 'https://pp.userapi.com/c417120/v417120632/a101/aFNY0BvL1is.jpg', 113769428: 'https://pp.userapi.com/c841332/v841332493/45b6e/5g-e3CHSJjQ.jpg', 143698472: 'https://pp.userapi.com/c837226/v837226472/1d5a6/ixDEkGvWOtA.jpg', 153336245: 'https://pp.userapi.com/c633125/v633125245/48118/ynscMbmUBvQ.jpg', 194257725: 'https://pp.userapi.com/c836120/v836120725/3bf2c/oo9NpSeMTkk.jpg', 1850812: 'https://pp.userapi.com/c840520/v840520717/1bc6a/cyfKTO0jDtE.jpg', 13574159: 'https://pp.userapi.com/c627128/v627128159/437e1/vI899dPhvu0.jpg', 137797285: 'https://pp.userapi.com/c616522/v616522285/1d1c5/RjWGOQfO8OE.jpg', 1894843: 'https://pp.userapi.com/c639419/v639419156/4a1e1/4AuUi4Ihwmk.jpg', 243748918: 'https://pp.userapi.com/c638416/v638416918/2aac3/r-82OiDeEgo.jpg', 1947468: 'https://pp.userapi.com/c836735/v836735757/51244/ljn2grxaCI0.jpg', 133385779: 'https://pp.userapi.com/c836524/v836524779/371c9/DRPsjmJnjEk.jpg', 3389106: 'https://pp.userapi.com/c836637/v836637106/2db5d/Reqt9vlemoI.jpg', 4053252: 'https://pp.userapi.com/c624125/v624125252/3e0e7/7yTE4rLhubU.jpg', 26293593: 'https://pp.userapi.com/c638127/v638127197/516b4/V-QT2RbudwE.jpg', 73725554: 'https://pp.userapi.com/c10824/u73725554/e_882e15fb.jpg', 17204160: 'https://pp.userapi.com/c836634/v836634160/33a6c/NxTxIcY9Dm0.jpg', 11281989: 'https://pp.userapi.com/c626430/v626430989/22079/sGi6Ibz8YuA.jpg', 23132484: 'https://pp.userapi.com/c840134/v840134268/f9e8/SgjC-dWHMsc.jpg', 136487913: 'https://pp.userapi.com/c639729/v639729976/48b10/zG0zmD0bsZo.jpg', 9035501: 'https://pp.userapi.com/c836534/v836534173/5e36a/-2ebdzieuxE.jpg', 9684985: 'https://pp.userapi.com/c841335/v841335763/2f0bd/LZfmiMpdg_0.jpg', 21937508: 'https://pp.userapi.com/c637117/v637117528/5fe79/c5QE4KaDHwc.jpg', 29471263: 'https://pp.userapi.com/c836634/v836634263/3917/0OebnuXrGUc.jpg', 146894240: 'https://pp.userapi.com/c639917/v639917644/4b897/_g2NPiFotp4.jpg', 16289804: 'https://pp.userapi.com/c308725/v308725804/2b20/YkmUCRG1WdQ.jpg', 22178345: 'https://pp.userapi.com/c638527/v638527345/36b28/JXsr4HUdeuA.jpg', 62608118: 'https://pp.userapi.com/c830508/v830508204/1cba2/mJHybtcrX88.jpg', 153050843: 'https://pp.userapi.com/c824410/v824410239/47429/jQxAsIf2O6k.jpg', 172236357: 'https://pp.userapi.com/c840232/v840232323/1c77f/VTT8iuK-BU8.jpg', 5928974: 'https://pp.userapi.com/c637226/v637226974/4fcd/omTMcQimhIc.jpg', 8430631: 'https://pp.userapi.com/c630920/v630920631/26d16/UOCKXdGimv8.jpg', 39192091: 'https://pp.userapi.com/c840734/v840734465/1d78b/9U5isFhaNIo.jpg', 40525688: 'https://pp.userapi.com/c639825/v639825397/61806/BT-K0LenKbA.jpg', 43481543: 'https://vk.com/images/camera_50.png', 14376005: 'https://pp.userapi.com/c604530/v604530005/3d11/e1e44fyFP1M.jpg', 18311167: 'https://pp.userapi.com/c638524/v638524167/6587/10vYpUsB-pU.jpg', 20741084: 'https://pp.userapi.com/c837233/v837233415/4ee5a/TURcuH2OzoM.jpg', 48730838: 'https://pp.userapi.com/c633722/v633722838/435d8/Qs4cRdwWuEs.jpg', 49544525: 'https://pp.userapi.com/c638725/v638725525/180fa/SSXHpInIMwk.jpg', 52275878: 'https://pp.userapi.com/c9391/u52275878/e_2c82a17a.jpg', 7201879: 'https://pp.userapi.com/c840230/v840230872/24cbd/UNa-CiB0MYQ.jpg', 349770989: 'https://pp.userapi.com/c604824/v604824989/2346b/5oe2CjIbvkc.jpg', 9666272: None, 17335563: 'https://pp.userapi.com/c639321/v639321205/51720/8PBsZ2UWH9U.jpg', 17890829: 'https://pp.userapi.com/c639618/v639618241/58ea7/CQ7aK7laTb0.jpg', 19952994: 'https://pp.userapi.com/c837629/v837629399/50c02/yEEsGQZWabE.jpg', 49405565: 'https://pp.userapi.com/c639124/v639124565/1d0bf/XNRBM88UOVw.jpg', 57346310: 'https://pp.userapi.com/c629207/v629207310/37b1f/9y4DQu93Z8U.jpg', 110619159: 'https://pp.userapi.com/c637523/v637523159/1e562/qjjhzwbi3II.jpg', 122498128: 'https://pp.userapi.com/c837126/v837126526/64f96/HAnPgANiQ60.jpg', 184007922: 'https://pp.userapi.com/c633724/v633724922/210ce/OHx1tCKwi3I.jpg', 377247883: 'https://pp.userapi.com/c638621/v638621883/3cdce/YboIUA_iknE.jpg', 19908146: 'https://pp.userapi.com/c841326/v841326739/395a7/0FctguwEUyU.jpg', 62026744: 'https://pp.userapi.com/c639821/v639821744/f1c1/cHwzBc0dGMc.jpg', 69272721: 'https://pp.userapi.com/c639617/v639617317/622fe/PpdC-GGTS_o.jpg', 26063495: 'https://pp.userapi.com/c637429/v637429495/4f970/CwRAOJTy-ds.jpg', 39798702: 'https://pp.userapi.com/c638616/v638616409/591a4/1Agle7PI9QQ.jpg', 42152649: 'https://pp.userapi.com/c626521/v626521649/4592d/4RUK-HQTc1A.jpg', 49544258: 'https://pp.userapi.com/c302812/v302812258/63ef/BzQqa8JpT54.jpg', 51603627: 'https://pp.userapi.com/c619830/v619830627/23488/5dk7rgZ1I2k.jpg', 58073471: 'https://pp.userapi.com/c630221/v630221471/380c7/CenpzaT56uc.jpg', 58993843: 'https://pp.userapi.com/c638726/v638726843/aa7c/DLkH1h6f2KA.jpg', 61347727: 'https://pp.userapi.com/c840522/v840522547/35e6f/AsnOFSnkvmQ.jpg', 67462757: 'https://pp.userapi.com/c637623/v637623045/7082b/TqiAF54zHlo.jpg', 71623110: 'https://pp.userapi.com/c836122/v836122110/5086a/aCg7pCfbHL4.jpg', 76343504: 'https://pp.userapi.com/c638217/v638217504/12da/Jc_BIi_Bsyw.jpg', 82214406: 'https://pp.userapi.com/c636229/v636229406/1ecf8/fc0h1MVfNm0.jpg', 82281763: 'https://pp.userapi.com/c836533/v836533763/46d81/6urotJeQiRg.jpg', 86240657: 'https://pp.userapi.com/c637317/v637317657/5c36d/i5WAypphp40.jpg', 86912986: 'https://pp.userapi.com/c841437/v841437456/3ad92/3DJIVStstI0.jpg', 129131995: 'https://pp.userapi.com/c636428/v636428995/62dad/7lp2XwXYJtY.jpg', 139078901: 'https://pp.userapi.com/c840721/v840721452/18eaa/STWaE6QwyXI.jpg', 139545604: 'https://vk.com/images/camera_50.png', 183916717: 'https://pp.userapi.com/c624424/v624424717/3b0ce/MWWQXnLfY9w.jpg', 29863785: 'https://vk.com/images/camera_50.png', 146204614: 'https://pp.userapi.com/c837627/v837627348/5bd03/BxiUnEZ-w1M.jpg', 11988419: 'https://pp.userapi.com/c621521/v621521419/196d7/HJkOTNC3dXI.jpg', 36001455: 'https://pp.userapi.com/c637619/v637619604/60cf1/I91YG7ZyYGw.jpg', 211148083: 'https://pp.userapi.com/c824602/v824602587/118de/EHpTuSe1Rq8.jpg', 222432279: 'https://pp.userapi.com/c419521/v419521279/8f98/mGXDu8w6QWE.jpg', 206186029: 'https://pp.userapi.com/c624816/v624816029/22677/twUSoNeUxMY.jpg', 218094077: 'https://pp.userapi.com/c841420/v841420407/117c6/HjECj11WZPs.jpg', 142929387: 'https://pp.userapi.com/c633127/v633127387/12b78/4wzHMccyZj8.jpg', 52946033: 'https://pp.userapi.com/c638321/v638321924/6ebff/XS1CA6t6SHY.jpg', 216366311: 'https://pp.userapi.com/c836730/v836730913/5bad8/GzXqsud7JVg.jpg', 37487069: 'https://pp.userapi.com/c639431/v639431145/558e0/tE0VdONk-5g.jpg', 83958457: 'https://pp.userapi.com/c841425/v841425082/49d19/3jE4H7XXbdk.jpg', 154763632: 'https://pp.userapi.com/c628622/v628622632/822e/RA96vpvt6Nw.jpg', 34326334: 'https://pp.userapi.com/c623626/v623626334/4df1c/_lmNh29lrPM.jpg', 19705501: 'https://pp.userapi.com/c639921/v639921310/60a37/cGoVcdFYsQs.jpg', 32934786: 'https://pp.userapi.com/c9362/v9362786/3450/nDmApv3qwz8.jpg', 24269485: 'https://pp.userapi.com/c639921/v639921669/4bc44/ijuCw9CogA4.jpg', 30716803: 'https://pp.userapi.com/c840126/v840126206/2cff7/N8xWUulSQuE.jpg', 220752477: 'https://pp.userapi.com/c624923/v624923477/4d6d8/BNT9OL__Moo.jpg', 50976146: 'https://pp.userapi.com/c841322/v841322342/424ee/A7xkW6zVjJY.jpg', 55776383: 'https://pp.userapi.com/c11014/u55776383/e_47e6722b.jpg', 65974848: 'https://pp.userapi.com/c637118/v637118848/c29a/riNp2bhSjE8.jpg', 121743103: 'https://pp.userapi.com/c626523/v626523103/41599/RKAe3B35_TI.jpg', 133542449: 'https://pp.userapi.com/c841423/v841423940/37a73/l3UsTmR_NNU.jpg', 182553102: 'https://pp.userapi.com/c421420/v421420102/3f52/7APAjhTUXng.jpg', 33815170: 'https://pp.userapi.com/c425529/v425529170/589d/VQ-jGMfOtOs.jpg', 427644921: 'https://pp.userapi.com/c637317/v637317921/4762a/R1mu1gKqzpc.jpg', 42571043: 'https://pp.userapi.com/c834203/v834203851/43881/e2Wqk3Wrz9U.jpg', 159409192: 'https://pp.userapi.com/c841031/v841031902/62e14/LPnp6eRLIto.jpg', 83989775: 'https://pp.userapi.com/c837731/v837731775/3a568/PX5htpod06A.jpg', 175418033: 'https://pp.userapi.com/c638420/v638420033/3192a/p9HdNzSR964.jpg', 151657275: 'https://pp.userapi.com/c636626/v636626275/46c70/cH_IP4sa16o.jpg', 47387827: 'https://pp.userapi.com/c836636/v836636873/55dd7/tg_X79d9zXM.jpg', 135538376: 'https://pp.userapi.com/c618628/v618628376/1151/TJJMXFaBock.jpg', 152637338: None, 55876245: 'https://pp.userapi.com/c824410/v824410904/59177/C4jMtIQlnn0.jpg', 56919825: 'https://pp.userapi.com/c639119/v639119897/4e9df/JY4FjBEV5Bg.jpg', 56157382: 'https://pp.userapi.com/c5770/v5770382/40a/Dbv3PKfpULA.jpg', 139902147: 'https://pp.userapi.com/c840330/v840330756/c7b5/wV8r3V_aV4k.jpg', 85732659: 'https://pp.userapi.com/c637925/v637925659/56fa9/lea8cDTPwZc.jpg', 138847357: 'https://pp.userapi.com/c830408/v830408883/1a37b/tTEiKSgoxz4.jpg', 113355867: 'https://pp.userapi.com/c840623/v840623178/15d50/baEFhhpaGL4.jpg', 274923532: 'https://pp.userapi.com/c841022/v841022526/46276/j9cHcdeETpo.jpg', 144572065: 'https://pp.userapi.com/c636029/v636029065/1ba19/3kl539zK2c8.jpg', 150632561: 'https://pp.userapi.com/c5668/u150632561/e_6ca76243.jpg', 168276905: 'https://pp.userapi.com/c620216/v620216905/6d95/dU-gA2yEbUY.jpg', 228345131: 'https://pp.userapi.com/c631631/v631631131/492cd/5QnNGTvThIM.jpg', 222203403: 'https://pp.userapi.com/c841124/v841124906/10741/VFE6ZbXDU4s.jpg'}, data='photo_50')"
      ]
     },
     "execution_count": 7,
     "metadata": {},
     "output_type": "execute_result"
    }
   ],
   "source": [
    "friends_network.nodes(data = \"photo_50\")"
   ]
  },
  {
   "cell_type": "code",
   "execution_count": 4,
   "metadata": {},
   "outputs": [],
   "source": [
    "import webbrowser"
   ]
  },
  {
   "cell_type": "code",
   "execution_count": 5,
   "metadata": {},
   "outputs": [
    {
     "data": {
      "text/plain": [
       "True"
      ]
     },
     "execution_count": 5,
     "metadata": {},
     "output_type": "execute_result"
    }
   ],
   "source": [
    "webbrowser.open('http://localhost:{}/index.html'.format(8000))"
   ]
  },
  {
   "cell_type": "code",
   "execution_count": null,
   "metadata": {},
   "outputs": [],
   "source": [
    "pos = nx.spring_layout(friends_network)\n",
    "plt.figure(figsize=(20,10))\n",
    "nx.draw(friends_network,pos)"
   ]
  }
 ],
 "metadata": {
  "kernelspec": {
   "display_name": "Python 3",
   "language": "python",
   "name": "python3"
  },
  "language_info": {
   "codemirror_mode": {
    "name": "ipython",
    "version": 3
   },
   "file_extension": ".py",
   "mimetype": "text/x-python",
   "name": "python",
   "nbconvert_exporter": "python",
   "pygments_lexer": "ipython3",
   "version": "3.6.3"
  }
 },
 "nbformat": 4,
 "nbformat_minor": 2
}
